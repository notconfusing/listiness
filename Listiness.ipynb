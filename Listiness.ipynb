{
 "metadata": {
  "name": "",
  "signature": "sha256:06d5d87dd5a37c28598af3492c8c0af0ce2a8a2f4b625b57d57a16ee9dfd1481"
 },
 "nbformat": 3,
 "nbformat_minor": 0,
 "worksheets": [
  {
   "cells": [
    {
     "cell_type": "heading",
     "level": 2,
     "metadata": {},
     "source": [
      "The Listiness of Wikipedia"
     ]
    },
    {
     "cell_type": "markdown",
     "metadata": {},
     "source": [
      "Although it was only an aside, an answer of \"What is a Reference work?\" caught my attention at UC Berkeley iSchool's [March 21st Friday Afternoon Seminar by Michael Buckland](http://www.ischool.berkeley.edu/newsandevents/events/ias/20140321). One possible answer suggested was: works that are over 80% list.\n",
      "\n",
      "That definition, although seeming a bit short, was actually serious suggestion published by Marcia Bates in 1984. [Bates, Marcia J. \"What Is a Reference Book: A Theoretical and Empirical Analysis.\" RQ 26 (Fall 1986): 37-57]  This is an elegant solution in my opinion as a way to define reference works because although heuristic, it's entirely quantitative. Still necessary though, is a definition of list. According to Bates every book is a certain percentage list. Consider a classical monograph, it probably has a table of contents, or index - which is a list structure.\n",
      "\n",
      "At this point in reading, I realised that it would be simple identify what parts of Wikipedia articles are list. And so, we could determine the percentage list - or the \"listiness\" of - each Wikipedia article. \n",
      "\n"
     ]
    },
    {
     "cell_type": "heading",
     "level": 3,
     "metadata": {},
     "source": [
      "Method"
     ]
    },
    {
     "cell_type": "markdown",
     "metadata": {},
     "source": [
      "Analysing a May 2014 copy of English Wikipedia, we look at the listiness of all articles in the main namespace. To do this I used the `xml_dump` library from the excellent [mediawiki-utilities](https://pypi.python.org/pypi/mediawiki-utilities/0.2.1) by [@halfak](https://twitter.com/halfak).\n",
      "\n",
      "In [wikitext](https://www.wikidata.org/wiki/Q826308) lists are identified, by the prepending of a line with the characters __*__ (unordered list) and __#__ (numbered list). Additionally there are Infoboxes, which use | (pipe character) and tables whose rows begin with |- (pipe dash). What percentage of lines begin with any of these characters therefore determine the share of list of an article, or the \"listiness\" as I am now coining it.\n",
      "\n",
      "We do not allow redirect pages - pages with a starting '#' character and are one line long. Those pages which are not redirects, we term 'canonical pages'. We do not allow \"talk\" pages either.\n",
      "\n",
      "So for instnance, we can look at the statistics of each of these different line-starting characters. Below are the mean number of these line-startings per page."
     ]
    },
    {
     "cell_type": "heading",
     "level": 3,
     "metadata": {},
     "source": [
      "Results"
     ]
    },
    {
     "cell_type": "code",
     "collapsed": false,
     "input": [
      "canon_description = canonical.describe()\n",
      "canon_description.loc[['mean','std']]"
     ],
     "language": "python",
     "metadata": {},
     "outputs": [
      {
       "html": [
        "<div style=\"max-height:1000px;max-width:1500px;overflow:auto;\">\n",
        "<table border=\"1\" class=\"dataframe\">\n",
        "  <thead>\n",
        "    <tr style=\"text-align: right;\">\n",
        "      <th></th>\n",
        "      <th>*</th>\n",
        "      <th>#</th>\n",
        "      <th>|-</th>\n",
        "      <th>|</th>\n",
        "      <th>total</th>\n",
        "    </tr>\n",
        "  </thead>\n",
        "  <tbody>\n",
        "    <tr>\n",
        "      <th>mean</th>\n",
        "      <td>  6.660130</td>\n",
        "      <td> 0.457347</td>\n",
        "      <td>  3.392566</td>\n",
        "      <td>  29.755385</td>\n",
        "      <td> 2284.055053</td>\n",
        "    </tr>\n",
        "    <tr>\n",
        "      <th>std</th>\n",
        "      <td> 33.667805</td>\n",
        "      <td> 7.173435</td>\n",
        "      <td> 24.983288</td>\n",
        "      <td> 124.254805</td>\n",
        "      <td> 4120.072758</td>\n",
        "    </tr>\n",
        "  </tbody>\n",
        "</table>\n",
        "<p>2 rows \u00d7 5 columns</p>\n",
        "</div>"
       ],
       "metadata": {},
       "output_type": "pyout",
       "prompt_number": 3,
       "text": [
        "              *         #         |-           |        total\n",
        "mean   6.660130  0.457347   3.392566   29.755385  2284.055053\n",
        "std   33.667805  7.173435  24.983288  124.254805  4120.072758\n",
        "\n",
        "[2 rows x 5 columns]"
       ]
      }
     ],
     "prompt_number": 3
    },
    {
     "cell_type": "markdown",
     "metadata": {},
     "source": [
      "We read this as the mean average number of undorded list items per page  is 6.6, the number of ordered list items per page is 0.45 etc. These number seem reasonable, and commeasurate with casual browsing experience. However we also see that the average number of lines per article is 2284, which seems very high. But as you can see the standard deviation for total lines is very large too. That means there are some extremely long articles out there, especially when considering an article I wrote at recently is only 24 lines long! Although, to be sure, all lines are not created  equally.\n",
      "\n",
      "Now we are in a perfect place to start looking at listiness distributions. Let's visualise a histogram of the listinesses of all the pages. This first histogram just considers the classical ordered and unordered lists."
     ]
    },
    {
     "cell_type": "code",
     "collapsed": false,
     "input": [
      "show_list_plot()"
     ],
     "language": "python",
     "metadata": {},
     "outputs": [
      {
       "metadata": {},
       "output_type": "display_data",
       "png": "[encoded data removed]",
       "text": [
        "<matplotlib.figure.Figure at 0x7f1dfc06a290>"
       ]
      }
     ],
     "prompt_number": 5
    },
    {
     "cell_type": "markdown",
     "metadata": {},
     "source": [
      "Quite clearly we can see a power law distribution. Lets recall that 80% listiness is Bates' threshold for considering a book a reference book. In our case lets see how many articles are at least 80% listy. "
     ]
    },
    {
     "cell_type": "code",
     "collapsed": false,
     "input": [
      "canonical[canonical['*and#per'] >= 0.8].shape[0] / float(canonical.shape[0])"
     ],
     "language": "python",
     "metadata": {},
     "outputs": [
      {
       "metadata": {},
       "output_type": "pyout",
       "prompt_number": 6,
       "text": [
        "0.0032001019048792404"
       ]
      }
     ],
     "prompt_number": 6
    },
    {
     "cell_type": "markdown",
     "metadata": {},
     "source": [
      "It's 0.32%, or about three-tenths of one percent of articles are 80% or more listy when considering ordered and unordered lists. \n",
      "\n",
      "Now lets allow for charts and infoboxes in our analysis. To eliminate confusion, pages like [List of Feminists](http://en.wikipedia.org/wiki/List_of_feminists) is actually mainly a table! In our terminology it might be called \"Table of Feminists\", although the \"See Also\" section at the end is a proper list. \n",
      "\n",
      "Now we allow table cells and infoboxes that exist to come into our listiness calculations. This produces a new picture."
     ]
    },
    {
     "cell_type": "code",
     "collapsed": false,
     "input": [
      "show_list_and_table_plot()"
     ],
     "language": "python",
     "metadata": {},
     "outputs": [
      {
       "metadata": {},
       "output_type": "display_data",
       "png": "[encoded data removed]",
       "text": [
        "<matplotlib.figure.Figure at 0x7f1ddf167ed0>"
       ]
      }
     ],
     "prompt_number": 8
    },
    {
     "cell_type": "markdown",
     "metadata": {},
     "source": [
      "Right away a noticeable change has occurred in the distribution. One can make out a Gaussian distribution centred at about 50% listiness. Also the scale has changed, with about half of those articles which were previously 0% listy, becoming listy. Just visually we see that percentage of lines that are contributed to by tables and infoboxes, are appreciable at a large level. In fact, if we find our percentage of articles that exceed the 80% listiness threshold under the table and infobox definition, now we have:"
     ]
    },
    {
     "cell_type": "code",
     "collapsed": false,
     "input": [
      "canonical[canonical['allper'] >= 0.8].shape[0] / float(canonical.shape[0])"
     ],
     "language": "python",
     "metadata": {},
     "outputs": [
      {
       "metadata": {},
       "output_type": "pyout",
       "prompt_number": 9,
       "text": [
        "0.03052258792303092"
       ]
      }
     ],
     "prompt_number": 9
    },
    {
     "cell_type": "markdown",
     "metadata": {},
     "source": [
      "... about 3% of all articles. This represents an order of magnitude increase.\n",
      "\n",
      "Now we have such a figure, so what? By itself I'm not sure if we can draw any conclusions about Wikipedia being very listy. It would be instructive to compare this to other encyclopedias or libraries. You could measure whatever of Google Books is OCR'd, if you had access to it. If anyone knows of any comparable statistics please get in touch."
     ]
    },
    {
     "cell_type": "heading",
     "level": 3,
     "metadata": {},
     "source": [
      "More curiosities"
     ]
    },
    {
     "cell_type": "markdown",
     "metadata": {},
     "source": [
      "To understand more about listy Wikipedia articles there were a few more avenues of inquiry to take. A first stop was to investigate if the list and table types correlated with each other. "
     ]
    },
    {
     "cell_type": "code",
     "collapsed": false,
     "input": [
      "canonical.corr()"
     ],
     "language": "python",
     "metadata": {},
     "outputs": [
      {
       "html": [
        "<div style=\"max-height:1000px;max-width:1500px;overflow:auto;\">\n",
        "<table border=\"1\" class=\"dataframe\">\n",
        "  <thead>\n",
        "    <tr style=\"text-align: right;\">\n",
        "      <th></th>\n",
        "      <th>*</th>\n",
        "      <th>#</th>\n",
        "      <th>|-</th>\n",
        "      <th>|</th>\n",
        "      <th>total</th>\n",
        "    </tr>\n",
        "  </thead>\n",
        "  <tbody>\n",
        "    <tr>\n",
        "      <th>*</th>\n",
        "      <td> 1.000000</td>\n",
        "      <td> 0.016075</td>\n",
        "      <td> 0.049516</td>\n",
        "      <td> 0.045971</td>\n",
        "      <td>-0.093864</td>\n",
        "    </tr>\n",
        "    <tr>\n",
        "      <th>#</th>\n",
        "      <td> 0.016075</td>\n",
        "      <td> 1.000000</td>\n",
        "      <td> 0.019311</td>\n",
        "      <td> 0.023440</td>\n",
        "      <td>-0.031146</td>\n",
        "    </tr>\n",
        "    <tr>\n",
        "      <th>|-</th>\n",
        "      <td> 0.049516</td>\n",
        "      <td> 0.019311</td>\n",
        "      <td> 1.000000</td>\n",
        "      <td> 0.764544</td>\n",
        "      <td>-0.045862</td>\n",
        "    </tr>\n",
        "    <tr>\n",
        "      <th>|</th>\n",
        "      <td> 0.045971</td>\n",
        "      <td> 0.023440</td>\n",
        "      <td> 0.764544</td>\n",
        "      <td> 1.000000</td>\n",
        "      <td>-0.093092</td>\n",
        "    </tr>\n",
        "    <tr>\n",
        "      <th>total</th>\n",
        "      <td>-0.093864</td>\n",
        "      <td>-0.031146</td>\n",
        "      <td>-0.045862</td>\n",
        "      <td>-0.093092</td>\n",
        "      <td> 1.000000</td>\n",
        "    </tr>\n",
        "  </tbody>\n",
        "</table>\n",
        "<p>5 rows \u00d7 5 columns</p>\n",
        "</div>"
       ],
       "metadata": {},
       "output_type": "pyout",
       "prompt_number": 2,
       "text": [
        "              *         #        |-         |     total\n",
        "*      1.000000  0.016075  0.049516  0.045971 -0.093864\n",
        "#      0.016075  1.000000  0.019311  0.023440 -0.031146\n",
        "|-     0.049516  0.019311  1.000000  0.764544 -0.045862\n",
        "|      0.045971  0.023440  0.764544  1.000000 -0.093092\n",
        "total -0.093864 -0.031146 -0.045862 -0.093092  1.000000\n",
        "\n",
        "[5 rows x 5 columns]"
       ]
      }
     ],
     "prompt_number": 2
    },
    {
     "cell_type": "markdown",
     "metadata": {},
     "source": [
      "None of these correlations are very strong, except for one. The correlation between the number of lines starting with __|-__ and __|__ is 0.76 over English Wikipedia. To those who know more about Wikitext, this would be obvious because table rows start with __|-__, and the delimiter for each column in that row begins with __|__. However what makes this difficult to disentangle, is that the number of columns may vary, so a 4-column table would have 4 times as many __|__ as __|-__. And of course Templates, use __|__ character to separate parameters and are not related to tables whatsoever.\n",
      "\n",
      "With our correlation matrix being rather uninformative, I wanted to see which where the most highly occurring words in the titles of our listiest pages. The left column is the total number of times the word occurs in _all_ page titles. The _listiest_ column is the number of times that word occurs in the titles articles who are 80% listy by the \"list and table\" definition. Lastly the _ratio_ column is a division of _listiest/all_. Compare displayed ratio to the ratio of 0.03 which is the composition of total listy articles versus all articles. The table is sorted by the _listiest_ column."
     ]
    },
    {
     "cell_type": "code",
     "collapsed": false,
     "input": [
      "lexemes_combined[lexemes_combined[\"listiest\"] > 150].sort(columns=\"listiest\", ascending=False).head(20)"
     ],
     "language": "python",
     "metadata": {},
     "outputs": [
      {
       "html": [
        "<div style=\"max-height:1000px;max-width:1500px;overflow:auto;\">\n",
        "<table border=\"1\" class=\"dataframe\">\n",
        "  <thead>\n",
        "    <tr style=\"text-align: right;\">\n",
        "      <th></th>\n",
        "      <th>all</th>\n",
        "      <th>listiest</th>\n",
        "      <th>ratio (listiest/all)</th>\n",
        "    </tr>\n",
        "  </thead>\n",
        "  <tbody>\n",
        "    <tr>\n",
        "      <th>of</th>\n",
        "      <td> 640540</td>\n",
        "      <td> 60163</td>\n",
        "      <td> 0.093925</td>\n",
        "    </tr>\n",
        "    <tr>\n",
        "      <th>list</th>\n",
        "      <td>  92978</td>\n",
        "      <td> 34307</td>\n",
        "      <td> 0.368980</td>\n",
        "    </tr>\n",
        "    <tr>\n",
        "      <th>in</th>\n",
        "      <td> 488559</td>\n",
        "      <td> 22937</td>\n",
        "      <td> 0.046948</td>\n",
        "    </tr>\n",
        "    <tr>\n",
        "      <th>the</th>\n",
        "      <td> 355866</td>\n",
        "      <td> 17071</td>\n",
        "      <td> 0.047970</td>\n",
        "    </tr>\n",
        "    <tr>\n",
        "      <th>\u2013</th>\n",
        "      <td>  31977</td>\n",
        "      <td> 10836</td>\n",
        "      <td> 0.338869</td>\n",
        "    </tr>\n",
        "    <tr>\n",
        "      <th>for</th>\n",
        "      <td> 415190</td>\n",
        "      <td>  9120</td>\n",
        "      <td> 0.021966</td>\n",
        "    </tr>\n",
        "    <tr>\n",
        "      <th>mens</th>\n",
        "      <td>  23931</td>\n",
        "      <td>  5837</td>\n",
        "      <td> 0.243910</td>\n",
        "    </tr>\n",
        "    <tr>\n",
        "      <th>singles</th>\n",
        "      <td>   7986</td>\n",
        "      <td>  5391</td>\n",
        "      <td> 0.675056</td>\n",
        "    </tr>\n",
        "    <tr>\n",
        "      <th>wikipediaarticles</th>\n",
        "      <td> 295972</td>\n",
        "      <td>  5358</td>\n",
        "      <td> 0.018103</td>\n",
        "    </tr>\n",
        "    <tr>\n",
        "      <th>season</th>\n",
        "      <td>  41053</td>\n",
        "      <td>  5323</td>\n",
        "      <td> 0.129662</td>\n",
        "    </tr>\n",
        "    <tr>\n",
        "      <th>and</th>\n",
        "      <td> 154046</td>\n",
        "      <td>  5133</td>\n",
        "      <td> 0.033321</td>\n",
        "    </tr>\n",
        "    <tr>\n",
        "      <th>championships</th>\n",
        "      <td>  17045</td>\n",
        "      <td>  5121</td>\n",
        "      <td> 0.300440</td>\n",
        "    </tr>\n",
        "    <tr>\n",
        "      <th>at</th>\n",
        "      <td>  47756</td>\n",
        "      <td>  5066</td>\n",
        "      <td> 0.106081</td>\n",
        "    </tr>\n",
        "    <tr>\n",
        "      <th>world</th>\n",
        "      <td>  34675</td>\n",
        "      <td>  4981</td>\n",
        "      <td> 0.143648</td>\n",
        "    </tr>\n",
        "    <tr>\n",
        "      <th>district</th>\n",
        "      <td>  51854</td>\n",
        "      <td>  4780</td>\n",
        "      <td> 0.092182</td>\n",
        "    </tr>\n",
        "    <tr>\n",
        "      <th>by</th>\n",
        "      <td> 105340</td>\n",
        "      <td>  4673</td>\n",
        "      <td> 0.044361</td>\n",
        "    </tr>\n",
        "    <tr>\n",
        "      <th>team</th>\n",
        "      <td>  36328</td>\n",
        "      <td>  4256</td>\n",
        "      <td> 0.117155</td>\n",
        "    </tr>\n",
        "    <tr>\n",
        "      <th>county</th>\n",
        "      <td> 104867</td>\n",
        "      <td>  4255</td>\n",
        "      <td> 0.040575</td>\n",
        "    </tr>\n",
        "    <tr>\n",
        "      <th>football</th>\n",
        "      <td>  53007</td>\n",
        "      <td>  3853</td>\n",
        "      <td> 0.072689</td>\n",
        "    </tr>\n",
        "    <tr>\n",
        "      <th>wikipediawikiproject</th>\n",
        "      <td> 183711</td>\n",
        "      <td>  3665</td>\n",
        "      <td> 0.019950</td>\n",
        "    </tr>\n",
        "  </tbody>\n",
        "</table>\n",
        "<p>20 rows \u00d7 3 columns</p>\n",
        "</div>"
       ],
       "metadata": {},
       "output_type": "pyout",
       "prompt_number": 74,
       "text": [
        "                         all  listiest  ratio (listiest/all)\n",
        "of                    640540     60163              0.093925\n",
        "list                   92978     34307              0.368980\n",
        "in                    488559     22937              0.046948\n",
        "the                   355866     17071              0.047970\n",
        "\u2013                      31977     10836              0.338869\n",
        "for                   415190      9120              0.021966\n",
        "mens                   23931      5837              0.243910\n",
        "singles                 7986      5391              0.675056\n",
        "wikipediaarticles     295972      5358              0.018103\n",
        "season                 41053      5323              0.129662\n",
        "and                   154046      5133              0.033321\n",
        "championships          17045      5121              0.300440\n",
        "at                     47756      5066              0.106081\n",
        "world                  34675      4981              0.143648\n",
        "district               51854      4780              0.092182\n",
        "by                    105340      4673              0.044361\n",
        "team                   36328      4256              0.117155\n",
        "county                104867      4255              0.040575\n",
        "football               53007      3853              0.072689\n",
        "wikipediawikiproject  183711      3665              0.019950\n",
        "\n",
        "[20 rows x 3 columns]"
       ]
      }
     ],
     "prompt_number": 74
    },
    {
     "cell_type": "markdown",
     "metadata": {},
     "source": [
      "As one might expect, the word \"list\" is the second most occurring word in titles of the listiest articles. These articles represent 36% of all the articles that have list in their title, which is significantly higher than what we'd expect on with no other information - 3%. Even \"in\" and \"by\" some occur slightly more than expected. This should make sense if you've ever browsed a Wikipedia article with a title something like [\"List of \\[x\\] by \\[y\\]\" or \"List of \\[x\\] in \\[z\\]\"](https://en.wikipedia.org/wiki/List_of_lists_of_lists). \n",
      "\n",
      "The remainder of this Top 20 just goes to show how sport fans have chronicled results with great zeal. And the inexplicability of their zeal is an analogue to my curiosity for investigating this topic.\n",
      "\n",
      "Contact me with more ideas of question on twitter [@notconfusing](https://twitter.com/notconfusing)\u203d\u203d\u203d\n",
      "\n",
      "Find all the code for this analysis at https://github.com/notconfusing/listiness ."
     ]
    },
    {
     "cell_type": "heading",
     "level": 2,
     "metadata": {},
     "source": [
      "Start of Supporting Code"
     ]
    },
    {
     "cell_type": "code",
     "collapsed": false,
     "input": [
      "import pandas as pd\n",
      "import re\n",
      "import decimal\n",
      "import string\n",
      "\n",
      "%pylab inline\n",
      "linestarts = pd.read_table('linestarts.txt')\n",
      "#somehow the txtfile has an extra column\n",
      "del linestarts[u'Unnamed: 6']\n",
      "#The redirect condition is that there is only one line and it began with a \"#\"\n",
      "redir_cond = (linestarts['total'] == 1) & (linestarts['#'] == 1)\n",
      "canon_cond = [not(x) for x in redir_cond]\n",
      "redirs = linestarts[redir_cond]\n",
      "canonical =  linestarts[(canon_cond)]"
     ],
     "language": "python",
     "metadata": {},
     "outputs": [
      {
       "output_type": "stream",
       "stream": "stdout",
       "text": [
        "Populating the interactive namespace from numpy and matplotlib\n"
       ]
      }
     ],
     "prompt_number": 4
    },
    {
     "cell_type": "code",
     "collapsed": false,
     "input": [
      "canonical['*and#per'] = ( canonical['*'] + canonical['#'] ) / canonical['total'] \n",
      "canonical['allper'] = ( canonical['*'] + canonical['#'] + canonical['|'] ) / canonical['total']\n",
      "\n",
      "def show_list_plot():\n",
      "    fig, axes = plt.subplots(figsize=(8,4.5))\n",
      "    histplot = canonical['*and#per'].hist(ax=axes, bins=30, color='blue')\n",
      "    NOPLACES = decimal.Decimal(10) ** 0\n",
      "    plt.xticks(arange(0,1.1,0.1), [decimal.Decimal(x * 100).quantize(NOPLACES) for x in arange(0,1.1,0.1)])\n",
      "    plt.xlabel('Listiness - ordered and unordered lists only')\n",
      "    plt.ylabel('Article frequency')\n",
      "    plt.title('Frequency of Article List-Percentages of English Wikipedia')\n",
      "\n",
      "def show_list_and_table_plot():\n",
      "    fig, axes = plt.subplots(figsize=(8,4.5))\n",
      "    histplot = canonical['allper'].hist(ax=axes, bins=30, color='green')\n",
      "    NOPLACES = decimal.Decimal(10) ** 0\n",
      "    plt.xticks(arange(0,1.1,0.1), [decimal.Decimal(x * 100).quantize(NOPLACES) for x in arange(0,1.1,0.1)])\n",
      "    plt.xlabel('Listiness - ordered and undordered lists, tables, and infoboxes')\n",
      "    plt.ylabel('Article frequency')\n",
      "    plt.title('Frequency of Article List-Percentages of English Wikipedia')"
     ],
     "language": "python",
     "metadata": {},
     "outputs": [],
     "prompt_number": 6
    },
    {
     "cell_type": "code",
     "collapsed": false,
     "input": [
      "from collections import defaultdict\n",
      "lexeme_freq_all = defaultdict(int)\n",
      "lexeme_freq_list_only = defaultdict(int)\n",
      "\n",
      "exclude = set(string.punctuation)\n",
      "exclude.add(u'\u2013')\n",
      "def strip_punct(s):\n",
      "    ls = s.lower()\n",
      "    ls = ''.join(ch for ch in ls if ch not in exclude)\n",
      "    return ls\n",
      "\n",
      "for title in canonical['page+title']:\n",
      "    title=str(title)\n",
      "    for lexeme in title.split():\n",
      "        cleaned = strip_punct(lexeme)\n",
      "        #print lexeme, cleaned \n",
      "        lexeme_freq_all[cleaned] += 1\n",
      "for title in canonical[canonical['allper'] >= 0.8]['page+title']:\n",
      "    title=str(title)\n",
      "    for lexeme in title.split():\n",
      "        cleaned = strip_punct(lexeme)\n",
      "        lexeme_freq_list_only[cleaned] += 1 \n",
      "\n",
      "lexemes_all = pd.DataFrame.from_dict(data=lexeme_freq_all, orient='index')\n",
      "lexemes_list_only = pd.DataFrame.from_dict(data=lexeme_freq_list_only, orient='index')\n",
      "lexemes_combined = lexemes_all.join(lexemes_list_only, how='inner', lsuffix='_all', rsuffix='_listiest')\n",
      "lexemes_combined.columns = [u'all', u'listiest']\n",
      "lexemes_combined['ratio (listiest/all)'] = lexemes_combined['listiest'] / lexemes_combined['all'] "
     ],
     "language": "python",
     "metadata": {},
     "outputs": [],
     "prompt_number": 67
    },
    {
     "cell_type": "code",
     "collapsed": false,
     "input": [
      "lexemes_combined[lexemes_combined[\"listiest\"] > 150].sort(columns=\"ratio (listiest/all)\", ascending=False).head(16)"
     ],
     "language": "python",
     "metadata": {},
     "outputs": [
      {
       "html": [
        "<div style=\"max-height:1000px;max-width:1500px;overflow:auto;\">\n",
        "<table border=\"1\" class=\"dataframe\">\n",
        "  <thead>\n",
        "    <tr style=\"text-align: right;\">\n",
        "      <th></th>\n",
        "      <th>all</th>\n",
        "      <th>listiest</th>\n",
        "      <th>ratio (listiest/all)</th>\n",
        "    </tr>\n",
        "  </thead>\n",
        "  <tbody>\n",
        "    <tr>\n",
        "      <th>pri</th>\n",
        "      <td>  728</td>\n",
        "      <td>  664</td>\n",
        "      <td> 0.912088</td>\n",
        "    </tr>\n",
        "    <tr>\n",
        "      <th>vrh</th>\n",
        "      <td>  235</td>\n",
        "      <td>  210</td>\n",
        "      <td> 0.893617</td>\n",
        "    </tr>\n",
        "    <tr>\n",
        "      <th>divisional</th>\n",
        "      <td>  410</td>\n",
        "      <td>  325</td>\n",
        "      <td> 0.792683</td>\n",
        "    </tr>\n",
        "    <tr>\n",
        "      <th>vas</th>\n",
        "      <td>  365</td>\n",
        "      <td>  279</td>\n",
        "      <td> 0.764384</td>\n",
        "    </tr>\n",
        "    <tr>\n",
        "      <th>gornji</th>\n",
        "      <td>  229</td>\n",
        "      <td>  167</td>\n",
        "      <td> 0.729258</td>\n",
        "    </tr>\n",
        "    <tr>\n",
        "      <th>filmography</th>\n",
        "      <td>  526</td>\n",
        "      <td>  371</td>\n",
        "      <td> 0.705323</td>\n",
        "    </tr>\n",
        "    <tr>\n",
        "      <th>secretariat</th>\n",
        "      <td>  463</td>\n",
        "      <td>  325</td>\n",
        "      <td> 0.701944</td>\n",
        "    </tr>\n",
        "    <tr>\n",
        "      <th>numberone</th>\n",
        "      <td> 2394</td>\n",
        "      <td> 1675</td>\n",
        "      <td> 0.699666</td>\n",
        "    </tr>\n",
        "    <tr>\n",
        "      <th>singles</th>\n",
        "      <td> 7986</td>\n",
        "      <td> 5391</td>\n",
        "      <td> 0.675056</td>\n",
        "    </tr>\n",
        "    <tr>\n",
        "      <th>stakes</th>\n",
        "      <td> 1149</td>\n",
        "      <td>  727</td>\n",
        "      <td> 0.632724</td>\n",
        "    </tr>\n",
        "    <tr>\n",
        "      <th>handicap</th>\n",
        "      <td>  342</td>\n",
        "      <td>  213</td>\n",
        "      <td> 0.622807</td>\n",
        "    </tr>\n",
        "    <tr>\n",
        "      <th>billboard</th>\n",
        "      <td>  740</td>\n",
        "      <td>  454</td>\n",
        "      <td> 0.613514</td>\n",
        "    </tr>\n",
        "    <tr>\n",
        "      <th>fia</th>\n",
        "      <td>  369</td>\n",
        "      <td>  207</td>\n",
        "      <td> 0.560976</td>\n",
        "    </tr>\n",
        "    <tr>\n",
        "      <th>iaaf</th>\n",
        "      <td>  718</td>\n",
        "      <td>  354</td>\n",
        "      <td> 0.493036</td>\n",
        "    </tr>\n",
        "    <tr>\n",
        "      <th>grade</th>\n",
        "      <td>  895</td>\n",
        "      <td>  421</td>\n",
        "      <td> 0.470391</td>\n",
        "    </tr>\n",
        "    <tr>\n",
        "      <th>listings</th>\n",
        "      <td> 2959</td>\n",
        "      <td> 1376</td>\n",
        "      <td> 0.465022</td>\n",
        "    </tr>\n",
        "  </tbody>\n",
        "</table>\n",
        "<p>16 rows \u00d7 3 columns</p>\n",
        "</div>"
       ],
       "metadata": {},
       "output_type": "pyout",
       "prompt_number": 70,
       "text": [
        "              all  listiest  ratio (listiest/all)\n",
        "pri           728       664              0.912088\n",
        "vrh           235       210              0.893617\n",
        "divisional    410       325              0.792683\n",
        "vas           365       279              0.764384\n",
        "gornji        229       167              0.729258\n",
        "filmography   526       371              0.705323\n",
        "secretariat   463       325              0.701944\n",
        "numberone    2394      1675              0.699666\n",
        "singles      7986      5391              0.675056\n",
        "stakes       1149       727              0.632724\n",
        "handicap      342       213              0.622807\n",
        "billboard     740       454              0.613514\n",
        "fia           369       207              0.560976\n",
        "iaaf          718       354              0.493036\n",
        "grade         895       421              0.470391\n",
        "listings     2959      1376              0.465022\n",
        "\n",
        "[16 rows x 3 columns]"
       ]
      }
     ],
     "prompt_number": 70
    },
    {
     "cell_type": "markdown",
     "metadata": {},
     "source": [
      "Research questions:\n",
      "\n",
      "1. What percentage of articles are above 80% list.\n",
      "    1. how does that answer change if we allow tables and infoboxes as well?\n",
      "    2. What do the different distributions mean?\n",
      "2. What are some top occuring word in the listiest articles?\n",
      "    2. How does inclusion of infoboxes and tables affect this as well?\n",
      "3. Are there any strong correllations between the different list types?"
     ]
    }
   ],
   "metadata": {}
  }
 ]
}